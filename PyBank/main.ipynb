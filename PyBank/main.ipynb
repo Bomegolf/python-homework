{
 "cells": [
  {
   "cell_type": "code",
   "execution_count": 1,
   "metadata": {},
   "outputs": [],
   "source": [
    "import csv\n",
    "from pathlib import Path"
   ]
  },
  {
   "cell_type": "code",
   "execution_count": 2,
   "metadata": {},
   "outputs": [],
   "source": [
    "file_data_path = Path('Resources/budget_data.csv')\n",
    "out_path = Path(\"Pybank_result.txt\")"
   ]
  },
  {
   "cell_type": "code",
   "execution_count": 3,
   "metadata": {},
   "outputs": [],
   "source": [
    "total_months = 0\n",
    "month_change = 0\n",
    "total_net = 0\n",
    "previous_change = 0\n",
    "count = 0\n",
    "pl_dic = {}\n",
    "total_change = 0\n",
    "average = 0\n",
    "max_change = []\n",
    "minium_change = []\n",
    "max_change_tracker = 0\n",
    "minimum_change_tracker = 0"
   ]
  },
  {
   "cell_type": "code",
   "execution_count": 4,
   "metadata": {},
   "outputs": [
    {
     "name": "stdout",
     "output_type": "stream",
     "text": [
      "Financial Analysis \n",
      "---------------------------------\n",
      "\n",
      "Total Months: 86\n",
      "Total: $38382578\n",
      "Average Change: $-2315.12\n",
      "Greatest Increase in Profits: Feb-2012 ($1926159)\n",
      "Greatest Decrease in Profits: Sep-2013 ($-2196167)\n"
     ]
    }
   ],
   "source": [
    "with open(file_data_path) as data:\n",
    "    reader = csv.reader(data)\n",
    "    \n",
    "    header = next(reader)\n",
    "    \n",
    "    for row in reader:\n",
    "        total_months = total_months + 1\n",
    "        total_net = total_net + int(row[1])\n",
    "     \n",
    "        if count > 0:\n",
    "            change = int(row[1]) - previous_change\n",
    "            pl_dic [row[0]] = change\n",
    "        count = count + 1\n",
    "        previous_change = int(row[1])\n",
    "\n",
    "for key in pl_dic.keys():\n",
    "    total_change = total_change + pl_dic[key]\n",
    "    if pl_dic[key] >= max_change_tracker:\n",
    "        max_change = [key,pl_dic[key]]\n",
    "        max_change_tracker = pl_dic[key]\n",
    "    if pl_dic[key] <= minimum_change_tracker:\n",
    "        minimum_change = [key,pl_dic[key]]\n",
    "        minimum_change_tracker = pl_dic[key]\n",
    "average = total_change/len(pl_dic)\n",
    "\n",
    "result = \"Financial Analysis \\n---------------------------------\\n\\n\"\n",
    "result += f\"Total Months: {total_months}\\n\"\n",
    "result += f\"Total: ${total_net}\\n\"\n",
    "result += f\"Average Change: ${average:.2f}\\n\"\n",
    "result += f\"Greatest Increase in Profits: {max_change[0]} (${max_change[1]})\\n\"\n",
    "result += f\"Greatest Decrease in Profits: {minimum_change[0]} (${minimum_change[1]})\"\n",
    "print(result)  \n",
    "with open(out_path,'w') as file:\n",
    "    file.write(result)"
   ]
  },
  {
   "cell_type": "code",
   "execution_count": null,
   "metadata": {},
   "outputs": [],
   "source": []
  }
 ],
 "metadata": {
  "kernelspec": {
   "display_name": "Python 3",
   "language": "python",
   "name": "python3"
  },
  "language_info": {
   "codemirror_mode": {
    "name": "ipython",
    "version": 3
   },
   "file_extension": ".py",
   "mimetype": "text/x-python",
   "name": "python",
   "nbconvert_exporter": "python",
   "pygments_lexer": "ipython3",
   "version": "3.7.9"
  }
 },
 "nbformat": 4,
 "nbformat_minor": 4
}
